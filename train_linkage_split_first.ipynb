{
 "cells": [
  {
   "cell_type": "code",
   "execution_count": null,
   "metadata": {
    "vscode": {
     "languageId": "plaintext"
    }
   },
   "outputs": [],
   "source": [
    "import pandas as pd\n",
    "from sklearn.model_selection import train_test_split\n",
    "from fuzzywuzzy import fuzz  # Make sure you have fuzzywuzzy installed: pip install fuzzywuzzy python-Levenshtein\n",
    "from sklearn.preprocessing import OneHotEncoder\n",
    "from sklearn.compose import ColumnTransformer\n",
    "from sklearn.linear_model import LogisticRegression # Example model, you can change this\n",
    "from sklearn.metrics import classification_report\n",
    "\n",
    "# ... (Load your dataframe 'df' here) ...\n",
    "\n",
    "features = ['race_match', 'state_match', 'dob_similarity', 'sex_match', 'city_similarity', 'address_similarity', 'name_similarity']\n",
    "X = df[features]\n",
    "y = df['match']\n",
    "\n",
    "# 1. Split the data FIRST\n",
    "X_train, X_test, y_train, y_test = train_test_split(X, y, test_size=0.2, random_state=42)  # Adjust test_size as needed\n",
    "\n",
    "# 2. Function to calculate fuzzy matching (now within the training set context)\n",
    "def calculate_name_similarity(row):\n",
    "    return fuzz.ratio(row['name_1'], row['name_2'])  # Assuming you have name_1 and name_2 columns\n",
    "\n",
    "def calculate_address_similarity(row):\n",
    "    return fuzz.ratio(row['address_1'], row['address_2']) # Assuming you have address_1 and address_2\n",
    "\n",
    "# 3. Apply fuzzy matching ONLY to the TRAINING SET\n",
    "X_train['name_similarity'] = X_train.apply(calculate_name_similarity, axis=1)\n",
    "X_train['address_similarity'] = X_train.apply(calculate_address_similarity, axis=1)\n",
    "\n",
    "# 4. Apply the SAME fuzzy matching logic to the TEST SET (using the training set's context)\n",
    "X_test['name_similarity'] = X_test.apply(calculate_name_similarity, axis=1)\n",
    "X_test['address_similarity'] = X_test.apply(calculate_address_similarity, axis=1)\n",
    "\n",
    "\n",
    "# 5. One-Hot Encode Categorical Features (AFTER splitting)\n",
    "categorical_features = ['race_match', 'sex_match', 'city_similarity', 'state_match'] # Add other categorical features as needed\n",
    "\n",
    "# Use ColumnTransformer for more robust and cleaner one-hot encoding\n",
    "preprocessor = ColumnTransformer(\n",
    "    transformers=[\n",
    "        ('cat', OneHotEncoder(handle_unknown='ignore'), categorical_features) # Handle unknown values in test set\n",
    "    ],\n",
    "    remainder='passthrough'  # Keep the numerical features (dob_similarity, name_similarity, address_similarity)\n",
    ")\n",
    "\n",
    "X_train = preprocessor.fit_transform(X_train) # Fit and transform on TRAINING data\n",
    "X_test = preprocessor.transform(X_test) # Transform TEST data using the fitted preprocessor\n",
    "\n",
    "\n",
    "# 6. Train your model\n",
    "model = LogisticRegression() # Or any other model\n",
    "model.fit(X_train, y_train)\n",
    "\n",
    "# 7. Evaluate the model\n",
    "y_pred = model.predict(X_test)\n",
    "print(classification_report(y_test, y_pred))\n",
    "\n",
    "\n",
    "# If you need to transform your data back to a pandas dataframe after one-hot encoding:\n",
    "X_train_df = pd.DataFrame(X_train, columns=preprocessor.get_feature_names_out())\n",
    "X_test_df = pd.DataFrame(X_test, columns=preprocessor.get_feature_names_out())\n",
    "\n",
    "# ... (Rest of your code) ..."
   ]
  }
 ],
 "metadata": {
  "language_info": {
   "name": "python"
  }
 },
 "nbformat": 4,
 "nbformat_minor": 2
}
