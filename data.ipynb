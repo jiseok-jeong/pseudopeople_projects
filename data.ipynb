{
 "cells": [
  {
   "cell_type": "code",
   "execution_count": 1,
   "metadata": {},
   "outputs": [],
   "source": [
    "import pseudopeople as psp\n",
    "import pandas as pd\n",
    "import numpy as np\n",
    "from sklearn.model_selection import train_test_split\n",
    "from sklearn.ensemble import RandomForestClassifier\n",
    "from sklearn.metrics import classification_report, accuracy_score\n",
    "from sklearn.preprocessing import LabelEncoder\n",
    "from fuzzywuzzy import fuzz"
   ]
  },
  {
   "cell_type": "code",
   "execution_count": 5,
   "metadata": {},
   "outputs": [],
   "source": [
    "df = pd.read_parquet(\"decennial_census.parquet\")"
   ]
  },
  {
   "cell_type": "code",
   "execution_count": 6,
   "metadata": {},
   "outputs": [],
   "source": [
    "df['address'] = df['street_number'].astype(str) + ' ' + df['street_name'].astype(str) + df['unit_number'].astype(str).fillna('').apply(lambda x: ' Unit ' + x if x else '')\n",
    "# Improved regex to remove \"nan\" and preceding \" Unit \"\n",
    "df['address'] = df['address'].str.replace(r'\\s*Unit\\s*nan\\b', '', case=False, regex=True).str.strip()\n",
    "\n",
    "# Combine first and last names\n",
    "df['full_name'] = df['first_name'].astype(str) + ' ' + df['last_name'].astype(str)\n",
    "df.drop(['first_name', 'last_name', 'street_number', 'street_name', 'unit_number'], axis=1, inplace=True) # Drop individual name columns and address\n",
    "\n",
    "\n",
    "# Convert categorical features to numerical using Label Encoding\n",
    "# le = LabelEncoder()\n",
    "# for col in ['sex', 'state', 'race_ethnicity', 'full_name']:\n",
    "#     df[col] = df[col].astype(str)\n",
    "#     df[col] = le.fit_transform(df[col])\n",
    "\n",
    "df.dropna(inplace=True)  # Remove rows with NaNs\n",
    "# print(df.head().to_markdown(index=False, numalign=\"left\", stralign=\"left\"))"
   ]
  },
  {
   "cell_type": "code",
   "execution_count": 7,
   "metadata": {},
   "outputs": [
    {
     "data": {
      "text/plain": [
       "31              Clara Amaya\n",
       "34       Elan Alonso Tellez\n",
       "36          Kaylee Castillo\n",
       "40          Caleb Rodriguez\n",
       "41          Henry Rodriguez\n",
       "                ...        \n",
       "33257         Iliana Buskey\n",
       "33277          Amare Harper\n",
       "33308        Xavier Atchley\n",
       "33313          Jace Gaspard\n",
       "33318       Nolan Hernandez\n",
       "Name: full_name, Length: 4279, dtype: object"
      ]
     },
     "execution_count": 7,
     "metadata": {},
     "output_type": "execute_result"
    }
   ],
   "source": [
    "df.full_name"
   ]
  },
  {
   "cell_type": "code",
   "execution_count": 8,
   "metadata": {},
   "outputs": [],
   "source": [
    "# Convert date of birth to datetime and then to a numerical representation (e.g., timestamp)\n",
    "df['date_of_birth'] = pd.to_datetime(df['date_of_birth'])\n",
    "# df['date_of_birth'] = df['date_of_birth'].astype(np.int64) // 10**9 # Convert to Unix timestamp"
   ]
  },
  {
   "cell_type": "code",
   "execution_count": 11,
   "metadata": {},
   "outputs": [
    {
     "name": "stdout",
     "output_type": "stream",
     "text": [
      "|   simulant_id_1 |   simulant_id_2 | full_name_1   | full_name_2        | address_1         | address_2            | city_1   | city_2   | dob_1               | dob_2               | sex_1   | sex_2   | state_1   | state_2   | race_1   | race_2   |   name_similarity |   address_similarity |   city_similarity |   match |\n",
      "|----------------:|----------------:|:--------------|:-------------------|:------------------|:---------------------|:---------|:---------|:--------------------|:--------------------|:--------|:--------|:----------|:----------|:---------|:---------|------------------:|---------------------:|------------------:|--------:|\n",
      "|         0_14147 |             0_6 | Clara Amaya   | Elan Alonso Tellez | 6877 prospect ave | 1501 interlake ave n | Anytown  | Anytown  | 2002-05-20 00:00:00 | 2013-07-30 00:00:00 | Female  | Male    | WA        | WA        | Latino   | Latino   |                28 |                   38 |               100 |       0 |\n",
      "|         0_14147 |          0_5622 | Clara Amaya   | Kaylee Castillo    | 6877 prospect ave | 3 stoke ct           | Anytown  | Anytown  | 2002-05-20 00:00:00 | 2003-06-10 00:00:00 | Female  | Female  | WA        | WA        | Latino   | Latino   |                23 |                   37 |               100 |       0 |\n",
      "|         0_14147 |          0_7254 | Clara Amaya   | Caleb Rodriguez    | 6877 prospect ave | 927 broomfield ln    | Anytown  | Anytown  | 2002-05-20 00:00:00 | 2007-01-10 00:00:00 | Female  | Male    | WA        | WA        | Latino   | White    |                23 |                   35 |               100 |       0 |\n",
      "|         0_14147 |          0_7255 | Clara Amaya   | Henry Rodriguez    | 6877 prospect ave | 927 broomfield ln    | Anytown  | Anytown  | 2002-05-20 00:00:00 | 2007-07-09 00:00:00 | Female  | Male    | WA        | WA        | Latino   | White    |                15 |                   35 |               100 |       0 |\n",
      "|         0_14147 |          0_7256 | Clara Amaya   | Kynleigh Rodriguez | 6877 prospect ave | 927 broomfield ln    | Anytown  | Anytown  | 2002-05-20 00:00:00 | 2017-05-06 00:00:00 | Female  | Female  | WA        | WA        | Latino   | White    |                14 |                   35 |               100 |       0 |\n"
     ]
    }
   ],
   "source": [
    "pairs_data = []\n",
    "for i in range(len(df)):\n",
    "    for j in range(i + 1, len(df)):  # Avoid duplicate pairs and self-comparisons\n",
    "        record1 = df.iloc[i]\n",
    "        record2 = df.iloc[j]\n",
    "\n",
    "        # Calculate Fuzzy Matching Scores\n",
    "        name_similarity = fuzz.ratio(record1['full_name'], record2['full_name'])\n",
    "        address_similarity = fuzz.ratio(record1['address'], record2['address'])\n",
    "        city_similarity = fuzz.ratio(record1['city'], record2['city'])\n",
    "\n",
    "        # Determine Match Label (replace with your actual logic)\n",
    "        # Example: If all similarities are above a threshold, consider it a match.\n",
    "        threshold = 80  # Example threshold\n",
    "        if name_similarity > threshold and address_similarity > threshold and city_similarity > threshold and record1['date_of_birth'] == record2['date_of_birth']:\n",
    "            match = 1\n",
    "        else:\n",
    "            match = 0\n",
    "\n",
    "\n",
    "        pairs_data.append({\n",
    "            'simulant_id_1': record1['simulant_id'],\n",
    "            'simulant_id_2': record2['simulant_id'],\n",
    "            'full_name_1': record1['full_name'],\n",
    "            'full_name_2': record2['full_name'],\n",
    "            'address_1': record1['address'],\n",
    "            'address_2': record2['address'],\n",
    "            'city_1': record1['city'],\n",
    "            'city_2': record2['city'],\n",
    "            'dob_1': record1['date_of_birth'],\n",
    "            'dob_2': record2['date_of_birth'],\n",
    "            'sex_1': record1['sex'],\n",
    "            'sex_2': record2['sex'],\n",
    "            'state_1': record1['state'],\n",
    "            'state_2': record2['state'],\n",
    "            'race_1': record1['race_ethnicity'],\n",
    "            'race_2': record2['race_ethnicity'],\n",
    "            'name_similarity': name_similarity,\n",
    "            'address_similarity': address_similarity,\n",
    "            'city_similarity': city_similarity,\n",
    "            'match': match\n",
    "        })\n",
    "\n",
    "pairs_df = pd.DataFrame(pairs_data)\n",
    "\n",
    "print(pairs_df.head().to_markdown(index=False))"
   ]
  },
  {
   "cell_type": "code",
   "execution_count": 14,
   "metadata": {},
   "outputs": [
    {
     "name": "stdout",
     "output_type": "stream",
     "text": [
      "original shape (4279, 19)\n",
      "new shape (9152781, 20)\n",
      "this took 70min\n"
     ]
    }
   ],
   "source": [
    "print('original shape', df.shape)\n",
    "print('new shape', pairs_df.shape)\n",
    "print('this took 70min')"
   ]
  },
  {
   "cell_type": "code",
   "execution_count": 16,
   "metadata": {},
   "outputs": [],
   "source": [
    "pairs_df.to_parquet('decennial_census_pairs.parquet')"
   ]
  }
 ],
 "metadata": {
  "kernelspec": {
   "display_name": "pseudopeople",
   "language": "python",
   "name": "python3"
  },
  "language_info": {
   "codemirror_mode": {
    "name": "ipython",
    "version": 3
   },
   "file_extension": ".py",
   "mimetype": "text/x-python",
   "name": "python",
   "nbconvert_exporter": "python",
   "pygments_lexer": "ipython3",
   "version": "3.12.9"
  }
 },
 "nbformat": 4,
 "nbformat_minor": 2
}
